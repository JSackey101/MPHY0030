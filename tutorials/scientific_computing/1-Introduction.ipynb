{
 "cells": [
  {
   "cell_type": "markdown",
   "metadata": {
    "slideshow": {
     "slide_type": "slide"
    }
   },
   "source": [
    "# Introduction\n",
    "\n",
    "## About me\n",
    "\n",
    "- Fernando Pérez-García\n",
    "- fernando.perezgarcia.17@ucl.ac.uk"
   ]
  },
  {
   "cell_type": "markdown",
   "metadata": {
    "slideshow": {
     "slide_type": "fragment"
    }
   },
   "source": [
    "## Survey and questions\n",
    "\n",
    "### Mentimeter\n",
    "\n",
    "Please go to https://www.menti.com/. The voting code 83 12 52 8."
   ]
  },
  {
   "cell_type": "markdown",
   "metadata": {
    "slideshow": {
     "slide_type": "fragment"
    }
   },
   "source": [
    "## Notebooks\n",
    "\n",
    "### Binder\n",
    "\n",
    "URL: https://mybinder.org/v2/gh/fepegar/pgta/HEAD"
   ]
  },
  {
   "cell_type": "markdown",
   "metadata": {
    "slideshow": {
     "slide_type": "slide"
    }
   },
   "source": [
    "# Scientific computing with Python"
   ]
  },
  {
   "cell_type": "markdown",
   "metadata": {
    "slideshow": {
     "slide_type": "fragment"
    }
   },
   "source": [
    "(Also known as \"Computational science\")\n",
    "\n",
    "> _Scientific computing is the collection of tools, techniques and theories required to solve on a computer the mathematical models of problems in science and engineering._\n",
    "\n",
    "[Gene H. Golub](https://en.wikipedia.org/wiki/Gene_H._Golub) and [James M. Ortega](https://www.encyclopedia.com/arts/culture-magazines/ortega-james-m), 1991, [_Scientific Computing and Differential Equations_](https://www.sciencedirect.com/book/9780080516691/scientific-computing-and-differential-equations)."
   ]
  },
  {
   "cell_type": "markdown",
   "metadata": {
    "slideshow": {
     "slide_type": "fragment"
    }
   },
   "source": [
    "![Scientific computing Venn diagram](https://static.packt-cdn.com/products/9781783288823/graphics/B02092_01_01.jpg)\n",
    "\n",
    "From [packtpub.com](https://subscription.packtpub.com/book/big-data-and-business-intelligence/9781783288823/1/ch01lvl1sec08/definition-of-scientific-computing)"
   ]
  },
  {
   "cell_type": "markdown",
   "metadata": {
    "slideshow": {
     "slide_type": "slide"
    }
   },
   "source": [
    "## Introduction\n",
    "\n",
    "Quick demonstration of Python vs. scientific Python."
   ]
  },
  {
   "cell_type": "code",
   "execution_count": null,
   "metadata": {
    "slideshow": {
     "slide_type": "fragment"
    }
   },
   "outputs": [],
   "source": [
    "import random\n",
    "\n",
    "numbers = []\n",
    "for _ in range(10_000_000):  # or 10000000\n",
    "    number = random.random()\n",
    "    numbers.append(number)\n",
    "numbers[:5]"
   ]
  },
  {
   "cell_type": "code",
   "execution_count": null,
   "metadata": {
    "slideshow": {
     "slide_type": "fragment"
    }
   },
   "outputs": [],
   "source": [
    "%%timeit\n",
    "total = 0\n",
    "for number in numbers:\n",
    "    total = total + number  # or total += number"
   ]
  },
  {
   "cell_type": "code",
   "execution_count": null,
   "metadata": {
    "slideshow": {
     "slide_type": "slide"
    }
   },
   "outputs": [],
   "source": [
    "import numpy as np\n",
    "\n",
    "numbers = np.random.rand(10_000_000)\n",
    "numbers[:5]"
   ]
  },
  {
   "cell_type": "code",
   "execution_count": null,
   "metadata": {
    "slideshow": {
     "slide_type": "fragment"
    }
   },
   "outputs": [],
   "source": [
    "%%timeit\n",
    "total = numbers.sum()"
   ]
  },
  {
   "cell_type": "code",
   "execution_count": null,
   "metadata": {
    "slideshow": {
     "slide_type": "slide"
    }
   },
   "outputs": [],
   "source": [
    "time_python = 220e-3  # or 220 * 10**(-3)\n",
    "time_numpy = 4e-3\n",
    "difference = time_python - time_numpy\n",
    "ratio = round(time_python / time_numpy)\n",
    "print(f'Time difference: {difference * 1000:.1f} ms')\n",
    "print(f'NumPy was {ratio} times faster')"
   ]
  },
  {
   "cell_type": "code",
   "execution_count": null,
   "metadata": {
    "slideshow": {
     "slide_type": "slide"
    }
   },
   "outputs": [],
   "source": [
    "num_rows, num_columns = shape = 10, 20\n",
    "low, high = 0, 3"
   ]
  },
  {
   "cell_type": "code",
   "execution_count": null,
   "metadata": {
    "slideshow": {
     "slide_type": "fragment"
    }
   },
   "outputs": [],
   "source": [
    "rows_list = []\n",
    "for row_index in range(num_rows):\n",
    "    row = []\n",
    "    for colum_index in range(num_columns):\n",
    "        row.append(random.randint(low, high))\n",
    "    rows_list.append(row)\n",
    "rows_list"
   ]
  },
  {
   "cell_type": "code",
   "execution_count": null,
   "metadata": {
    "slideshow": {
     "slide_type": "fragment"
    }
   },
   "outputs": [],
   "source": [
    "array = np.random.randint(low, high + 1, shape)\n",
    "array"
   ]
  },
  {
   "cell_type": "code",
   "execution_count": null,
   "metadata": {
    "slideshow": {
     "slide_type": "slide"
    }
   },
   "outputs": [],
   "source": [
    "total = 0\n",
    "for row in rows_list:\n",
    "    for value in row:\n",
    "        total += value\n",
    "total"
   ]
  },
  {
   "cell_type": "code",
   "execution_count": null,
   "metadata": {
    "slideshow": {
     "slide_type": "fragment"
    }
   },
   "outputs": [],
   "source": [
    "array.sum()"
   ]
  },
  {
   "cell_type": "code",
   "execution_count": null,
   "metadata": {
    "slideshow": {
     "slide_type": "fragment"
    }
   },
   "outputs": [],
   "source": [
    "np.asarray(rows_list).sum()"
   ]
  },
  {
   "cell_type": "markdown",
   "metadata": {
    "slideshow": {
     "slide_type": "slide"
    }
   },
   "source": [
    "Scientific computing in astronomy papers:\n",
    "\n",
    "\n",
    "<img src=\"https://raw.githubusercontent.com/elegant-scipy/elegant-scipy/master/figures/python-in-astronomy.png\" width=\"600px\">"
   ]
  },
  {
   "cell_type": "markdown",
   "metadata": {
    "slideshow": {
     "slide_type": "slide"
    }
   },
   "source": [
    "## To know more\n",
    "\n",
    "- [Python for Scientific Computing](https://aaltoscicomp.github.io/python-for-scicomp/)\n",
    "- [Scipy Lecture Notes](https://scipy-lectures.org/)\n",
    "- [Elegant SciPy (interactive notebooks)](https://mybinder.org/v2/gh/elegant-scipy/notebooks/master?filepath=index.ipynb)"
   ]
  },
  {
   "cell_type": "markdown",
   "metadata": {
    "slideshow": {
     "slide_type": "slide"
    }
   },
   "source": [
    "## Questions"
   ]
  }
 ],
 "metadata": {
  "celltoolbar": "Slideshow",
  "kernelspec": {
   "display_name": "Python 3",
   "language": "python",
   "name": "python3"
  },
  "language_info": {
   "codemirror_mode": {
    "name": "ipython",
    "version": 3
   },
   "file_extension": ".py",
   "mimetype": "text/x-python",
   "name": "python",
   "nbconvert_exporter": "python",
   "pygments_lexer": "ipython3",
   "version": "3.8.5"
  }
 },
 "nbformat": 4,
 "nbformat_minor": 5
}
