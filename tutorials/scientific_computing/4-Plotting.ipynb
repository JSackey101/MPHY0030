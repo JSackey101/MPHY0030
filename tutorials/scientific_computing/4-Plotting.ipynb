{
 "cells": [
  {
   "cell_type": "markdown",
   "id": "9ec540b2",
   "metadata": {
    "slideshow": {
     "slide_type": "slide"
    }
   },
   "source": [
    "# Plotting data\n",
    "\n",
    "![](https://www.royfrancis.com/elegant-scientific-graphs-learning-from-examples/featured.jpg)"
   ]
  },
  {
   "cell_type": "markdown",
   "id": "8af43903",
   "metadata": {
    "slideshow": {
     "slide_type": "slide"
    }
   },
   "source": [
    "## Matplotlib\n",
    "\n",
    "<a href=\"https://matplotlib.org/\">\n",
    "<img src=\"https://upload.wikimedia.org/wikipedia/commons/thumb/0/01/Created_with_Matplotlib-logo.svg/2048px-Created_with_Matplotlib-logo.svg.png\" width=\"100px\">\n",
    "</a>\n",
    "\n",
    "```python\n",
    "import matplotlib.pyplot as plt\n",
    "```"
   ]
  },
  {
   "cell_type": "code",
   "execution_count": null,
   "id": "80b06149",
   "metadata": {
    "slideshow": {
     "slide_type": "slide"
    }
   },
   "outputs": [],
   "source": [
    "import numpy as np\n",
    "import matplotlib.pyplot as plt\n",
    "%config InlineBackend.figure_format='retina'  # useful for retina screens"
   ]
  },
  {
   "cell_type": "code",
   "execution_count": null,
   "id": "c2df8940",
   "metadata": {
    "slideshow": {
     "slide_type": "fragment"
    }
   },
   "outputs": [],
   "source": [
    "x = np.linspace(0, 2 * np.pi)\n",
    "sine = np.sin(x)\n",
    "_, ax = plt.subplots()\n",
    "ax.plot(x, sine);"
   ]
  },
  {
   "cell_type": "code",
   "execution_count": null,
   "id": "85f0cd39",
   "metadata": {
    "slideshow": {
     "slide_type": "subslide"
    }
   },
   "outputs": [],
   "source": [
    "#np.linspace?"
   ]
  },
  {
   "cell_type": "code",
   "execution_count": null,
   "id": "69cea2da",
   "metadata": {
    "slideshow": {
     "slide_type": "slide"
    }
   },
   "outputs": [],
   "source": [
    "_, ax = plt.subplots()\n",
    "ax.plot(x, sine)\n",
    "ax.set_xlabel('x')\n",
    "ax.set_ylabel('y')\n",
    "ax.set_title('Sine function')\n",
    "ax.grid()"
   ]
  },
  {
   "cell_type": "code",
   "execution_count": null,
   "id": "9ddd1f78",
   "metadata": {
    "slideshow": {
     "slide_type": "slide"
    }
   },
   "outputs": [],
   "source": [
    "_, ax = plt.subplots()\n",
    "cosine = np.cos(x)\n",
    "ax.plot(x, sine, label='sine')\n",
    "ax.plot(x, cosine, label='cosine')\n",
    "ax.set_xlabel('x')\n",
    "ax.set_ylabel('y')\n",
    "ax.set_title('Sine and cosine functions')\n",
    "ax.legend()\n",
    "ax.grid()"
   ]
  },
  {
   "cell_type": "code",
   "execution_count": null,
   "id": "41575a5d",
   "metadata": {
    "slideshow": {
     "slide_type": "slide"
    }
   },
   "outputs": [],
   "source": [
    "_, axes = plt.subplots(2, 1)\n",
    "axes[0].plot(x, sine)\n",
    "axes[0].set_xlabel('x')\n",
    "axes[0].set_ylabel('y')\n",
    "axes[0].set_title('Sine function')\n",
    "axes[0].grid()\n",
    "axes[1].plot(x, cosine)\n",
    "axes[1].set_xlabel('x')\n",
    "axes[1].set_ylabel('y')\n",
    "axes[1].set_title('Cosine function')\n",
    "axes[1].grid()"
   ]
  },
  {
   "cell_type": "code",
   "execution_count": null,
   "id": "9a56d235",
   "metadata": {
    "slideshow": {
     "slide_type": "slide"
    }
   },
   "outputs": [],
   "source": [
    "_, axes = plt.subplots(2, 1)\n",
    "axes[0].plot(x, sine)\n",
    "axes[0].set_xlabel('x')\n",
    "axes[0].set_ylabel('y')\n",
    "axes[0].set_title('Sine function')\n",
    "axes[0].grid()\n",
    "axes[1].plot(x, cosine)\n",
    "axes[1].set_xlabel('x')\n",
    "axes[1].set_ylabel('y')\n",
    "axes[1].set_title('Cosine function')\n",
    "axes[1].grid()\n",
    "plt.tight_layout()"
   ]
  },
  {
   "cell_type": "code",
   "execution_count": null,
   "id": "51dd7e3a",
   "metadata": {
    "slideshow": {
     "slide_type": "slide"
    }
   },
   "outputs": [],
   "source": [
    "_, axes = plt.subplots(1, 2)\n",
    "axes[0].plot(x, sine)\n",
    "axes[0].set_xlabel('x')\n",
    "axes[0].set_ylabel('y')\n",
    "axes[0].set_title('Sine function')\n",
    "axes[0].grid()\n",
    "axes[1].plot(x, cosine)\n",
    "axes[1].set_xlabel('x')\n",
    "axes[1].set_ylabel('y')\n",
    "axes[1].set_title('Cosine function')\n",
    "axes[1].grid()\n",
    "plt.tight_layout()"
   ]
  },
  {
   "cell_type": "markdown",
   "id": "d718c1b6",
   "metadata": {
    "slideshow": {
     "slide_type": "fragment"
    }
   },
   "source": [
    "More examples on Matplotlib docs: https://matplotlib.org/stable/tutorials/introductory/sample_plots.html"
   ]
  },
  {
   "cell_type": "markdown",
   "id": "25f7ffce",
   "metadata": {
    "slideshow": {
     "slide_type": "slide"
    }
   },
   "source": [
    "## Seaborn\n",
    "\n",
    "<a href=\"https://seaborn.pydata.org/\">\n",
    "<img src=\"https://seaborn.pydata.org/_static/logo-wide-lightbg.svg\" width=\"300px\">\n",
    "</a>\n",
    "\n",
    "```python\n",
    "import seaborn as sns\n",
    "```"
   ]
  },
  {
   "cell_type": "code",
   "execution_count": null,
   "id": "b1d3cdd5",
   "metadata": {
    "slideshow": {
     "slide_type": "slide"
    }
   },
   "outputs": [],
   "source": [
    "%pip install --quiet seaborn\n",
    "import seaborn as sns\n",
    "sns.set_theme()  # important!\n",
    "\n",
    "iris = sns.load_dataset(\"iris\")\n",
    "iris"
   ]
  },
  {
   "cell_type": "code",
   "execution_count": null,
   "id": "4f208770",
   "metadata": {
    "scrolled": false,
    "slideshow": {
     "slide_type": "slide"
    }
   },
   "outputs": [],
   "source": [
    "sns.pairplot(iris, hue=\"species\", height=2.5);"
   ]
  },
  {
   "cell_type": "markdown",
   "id": "4a090959",
   "metadata": {
    "slideshow": {
     "slide_type": "fragment"
    }
   },
   "source": [
    "More examples on the Seaborn gallery: https://seaborn.pydata.org/examples/index.html"
   ]
  },
  {
   "cell_type": "markdown",
   "id": "1d8f2404",
   "metadata": {
    "slideshow": {
     "slide_type": "slide"
    }
   },
   "source": [
    "## To know more\n",
    "\n",
    "- [Matplotlib tutorials](https://matplotlib.org/stable/tutorials/index.html)\n",
    "- [Seaborn - User guide and tutorial](https://seaborn.pydata.org/tutorial.html)\n",
    "\n",
    "### To know _much_ more\n",
    "\n",
    "- [Seaborn API](https://seaborn.pydata.org/api.html)\n",
    "- [Matplotlib documentation](https://matplotlib.org/stable/contents.html)\n",
    "- [Ten Simple Rules for Better Figures](https://doi.org/10.1371/journal.pcbi.1003833)\n"
   ]
  }
 ],
 "metadata": {
  "celltoolbar": "Slideshow",
  "kernelspec": {
   "display_name": "Python 3 (ipykernel)",
   "language": "python",
   "name": "python3"
  },
  "language_info": {
   "codemirror_mode": {
    "name": "ipython",
    "version": 3
   },
   "file_extension": ".py",
   "mimetype": "text/x-python",
   "name": "python",
   "nbconvert_exporter": "python",
   "pygments_lexer": "ipython3",
   "version": "3.9.7"
  }
 },
 "nbformat": 4,
 "nbformat_minor": 5
}
