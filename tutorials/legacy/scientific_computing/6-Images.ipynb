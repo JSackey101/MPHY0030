{
 "cells": [
  {
   "cell_type": "markdown",
   "metadata": {
    "slideshow": {
     "slide_type": "slide"
    }
   },
   "source": [
    "# Images\n",
    "\n",
    "![](https://www.nasa.gov/sites/default/files/styles/full_width/public/thumbnails/image/blackhole.png?itok=THJrwcHP)"
   ]
  },
  {
   "cell_type": "markdown",
   "metadata": {
    "slideshow": {
     "slide_type": "slide"
    }
   },
   "source": [
    "## Matplotlib\n",
    "\n",
    "<a href=\"https://matplotlib.org/\">\n",
    "<img src=\"https://upload.wikimedia.org/wikipedia/commons/thumb/0/01/Created_with_Matplotlib-logo.svg/2048px-Created_with_Matplotlib-logo.svg.png\" width=\"100px\">\n",
    "</a>\n",
    "\n",
    "```python\n",
    "import matplotlib.pyplot as plt\n",
    "```"
   ]
  },
  {
   "cell_type": "code",
   "execution_count": null,
   "metadata": {
    "slideshow": {
     "slide_type": "fragment"
    }
   },
   "outputs": [],
   "source": [
    "%pip install --quiet matplotlib\n",
    "import numpy as np\n",
    "import matplotlib.pyplot as plt\n",
    "%config InlineBackend.figure_format='retina'  # useful for retina screens"
   ]
  },
  {
   "cell_type": "code",
   "execution_count": null,
   "metadata": {
    "slideshow": {
     "slide_type": "slide"
    }
   },
   "outputs": [],
   "source": [
    "random = (np.random.rand(2, 3) * 255).astype(np.uint8)\n",
    "random"
   ]
  },
  {
   "cell_type": "code",
   "execution_count": null,
   "metadata": {
    "slideshow": {
     "slide_type": "fragment"
    }
   },
   "outputs": [],
   "source": [
    "plt.imshow(random, cmap='gray');"
   ]
  },
  {
   "cell_type": "code",
   "execution_count": null,
   "metadata": {
    "slideshow": {
     "slide_type": "fragment"
    }
   },
   "outputs": [],
   "source": [
    "plt.imshow(random)\n",
    "plt.colorbar();"
   ]
  },
  {
   "cell_type": "code",
   "execution_count": null,
   "metadata": {
    "slideshow": {
     "slide_type": "slide"
    }
   },
   "outputs": [],
   "source": [
    "ten_randoms = 10 * [random]\n",
    "random_ten_times_horizontal = np.hstack(ten_randoms)\n",
    "random_ten_times_vertical = np.vstack(ten_randoms)\n",
    "_, axes = plt.subplots(1, 2)\n",
    "axes[0].imshow(random_ten_times_horizontal)\n",
    "axes[0].set_title('Horizontal stacking')\n",
    "axes[1].imshow(random_ten_times_vertical)\n",
    "axes[1].set_title('Vertical stacking');"
   ]
  },
  {
   "cell_type": "markdown",
   "metadata": {
    "slideshow": {
     "slide_type": "slide"
    }
   },
   "source": [
    "### Additive color mixing\n",
    "\n",
    "<img src=\"https://cdn.pixabay.com/photo/2017/01/31/00/35/additive-2022630_1280.png\" width=\"400px\">"
   ]
  },
  {
   "cell_type": "code",
   "execution_count": null,
   "metadata": {
    "slideshow": {
     "slide_type": "slide"
    }
   },
   "outputs": [],
   "source": [
    "# Exercise for home: understand this cell\n",
    "from itertools import product\n",
    "pixels = list(product((0, 1), repeat=3))\n",
    "print(pixels)"
   ]
  },
  {
   "cell_type": "code",
   "execution_count": null,
   "metadata": {
    "slideshow": {
     "slide_type": "fragment"
    }
   },
   "outputs": [],
   "source": [
    "pixels_image = np.array(pixels)[np.newaxis]\n",
    "print(pixels_image.shape)\n",
    "print(pixels_image)"
   ]
  },
  {
   "cell_type": "code",
   "execution_count": null,
   "metadata": {
    "slideshow": {
     "slide_type": "fragment"
    }
   },
   "outputs": [],
   "source": [
    "plt.imshow(pixels_image);"
   ]
  },
  {
   "cell_type": "code",
   "execution_count": null,
   "metadata": {
    "slideshow": {
     "slide_type": "slide"
    }
   },
   "outputs": [],
   "source": [
    "pixels_255 = (pixels_image * 255).astype(np.uint8)\n",
    "print(pixels_255.shape)\n",
    "print(pixels_255)"
   ]
  },
  {
   "cell_type": "code",
   "execution_count": null,
   "metadata": {
    "slideshow": {
     "slide_type": "fragment"
    }
   },
   "outputs": [],
   "source": [
    "plt.imshow(pixels_255);"
   ]
  },
  {
   "cell_type": "code",
   "execution_count": null,
   "metadata": {
    "slideshow": {
     "slide_type": "slide"
    }
   },
   "outputs": [],
   "source": [
    "face_path = 'face.jpg'"
   ]
  },
  {
   "cell_type": "code",
   "execution_count": null,
   "metadata": {
    "slideshow": {
     "slide_type": "fragment"
    }
   },
   "outputs": [],
   "source": [
    "%pip install --quiet requests\n",
    "import requests\n",
    "url = 'https://thispersondoesnotexist.com/image'\n",
    "request = requests.get(url)\n",
    "with open(face_path, 'wb') as f:\n",
    "    f.write(request.content)"
   ]
  },
  {
   "cell_type": "code",
   "execution_count": null,
   "metadata": {
    "slideshow": {
     "slide_type": "fragment"
    }
   },
   "outputs": [],
   "source": [
    "array = plt.imread(face_path)\n",
    "print('Data type:    ', array.dtype)\n",
    "print('Shape:        ', array.shape)\n",
    "print('Element size: ', array.itemsize)\n",
    "print('Num. elements:', array.size)\n",
    "print('Num. bytes:   ', array.nbytes)"
   ]
  },
  {
   "cell_type": "code",
   "execution_count": null,
   "metadata": {
    "slideshow": {
     "slide_type": "skip"
    }
   },
   "outputs": [],
   "source": [
    "fig, axes = plt.subplots(2, 2, figsize=(10, 6))\n",
    "red, green, blue = [array[..., channel] for channel in range(3)]\n",
    "axes[0, 0].imshow(red)\n",
    "axes[0, 0].set_title('Red channel')\n",
    "axes[0, 1].imshow(green)\n",
    "axes[0, 1].set_title('Green channel')\n",
    "axes[1, 0].imshow(blue)\n",
    "axes[1, 0].set_title('Blue channel')\n",
    "axes[1, 1].imshow(array)\n",
    "axes[1, 1].set_title('RGB')\n",
    "plt.tight_layout()"
   ]
  },
  {
   "cell_type": "code",
   "execution_count": null,
   "metadata": {
    "slideshow": {
     "slide_type": "slide"
    }
   },
   "outputs": [],
   "source": [
    "fig, axes = plt.subplots(2, 2, figsize=(10, 6))\n",
    "red, green, blue = [array[..., channel] for channel in range(3)]\n",
    "axes[0, 0].imshow(red, cmap='gray')\n",
    "axes[0, 0].set_title('Red channel')\n",
    "axes[0, 1].imshow(green, cmap='gray')\n",
    "axes[0, 1].set_title('Green channel')\n",
    "axes[1, 0].imshow(blue, cmap='gray')\n",
    "axes[1, 0].set_title('Blue channel')\n",
    "axes[1, 1].imshow(array)\n",
    "axes[1, 1].set_title('RGB')\n",
    "plt.tight_layout()"
   ]
  },
  {
   "cell_type": "code",
   "execution_count": null,
   "metadata": {
    "slideshow": {
     "slide_type": "slide"
    }
   },
   "outputs": [],
   "source": [
    "eye = array[440:520, 320:450]\n",
    "plt.imshow(eye)"
   ]
  },
  {
   "cell_type": "markdown",
   "metadata": {
    "slideshow": {
     "slide_type": "slide"
    }
   },
   "source": [
    "## Questions"
   ]
  },
  {
   "cell_type": "markdown",
   "metadata": {
    "slideshow": {
     "slide_type": "slide"
    }
   },
   "source": [
    "## Colormaps, AKA lookup tables (LUTs)"
   ]
  },
  {
   "cell_type": "markdown",
   "metadata": {
    "slideshow": {
     "slide_type": "fragment"
    }
   },
   "source": [
    "![](https://media.springernature.com/full/springer-static/image/art%3A10.1038%2Fs41467-020-19160-7/MediaObjects/41467_2020_19160_Fig1_HTML.png)"
   ]
  },
  {
   "cell_type": "markdown",
   "metadata": {
    "slideshow": {
     "slide_type": "slide"
    }
   },
   "source": [
    "- [How Bad Is Your Colormap? (Or, Why People Hate Jet – and You Should Too)](https://jakevdp.github.io/blog/2014/10/16/how-bad-is-your-colormap/)\n",
    "- [The misuse of colour in science communication](https://www.nature.com/articles/s41467-020-19160-7)\n",
    "- [How The Rainbow Color Map Misleads](https://eagereyes.org/basics/rainbow-color-map)\n",
    "- [A dangerous rainbow: Why colormaps matter](https://blogs.mathworks.com/headlines/2018/10/10/a-dangerous-rainbow-why-colormaps-matter/)\n",
    "- [No more rainbows!](https://agilescientific.com/blog/2017/12/14/no-more-rainbows)\n",
    "- [Rainbow Colormaps – What are they good for? Absolutely nothing!](https://medvis.org/2012/08/21/rainbow-colormaps-what-are-they-good-for-absolutely-nothing/)\n",
    "- [Using better colours in science](https://www.mn.uio.no/ceed/english/about/blog/2020/using-better-colours-in-science.html)\n",
    "- [The unscientific colour map](https://www.fabiocrameri.ch/endrainbow/)"
   ]
  },
  {
   "cell_type": "markdown",
   "metadata": {
    "slideshow": {
     "slide_type": "slide"
    }
   },
   "source": [
    "### Sequential colormaps"
   ]
  },
  {
   "cell_type": "markdown",
   "metadata": {
    "slideshow": {
     "slide_type": "slide"
    }
   },
   "source": [
    "#### Yes:\n",
    "\n",
    "![](https://matplotlib.org/stable/_images/sphx_glr_colormaps_001.png)\n",
    "![](https://matplotlib.org/stable/_images/sphx_glr_colormaps_002.png)\n",
    "\n",
    "From [Choosing Colormaps in Matplotlib](https://matplotlib.org/stable/tutorials/colors/colormaps.html)"
   ]
  },
  {
   "cell_type": "markdown",
   "metadata": {
    "slideshow": {
     "slide_type": "slide"
    }
   },
   "source": [
    "#### No:\n",
    "\n",
    "![](https://matplotlib.org/stable/_images/sphx_glr_colormaps_007.png)\n",
    "\n",
    "From [Choosing Colormaps in Matplotlib](https://matplotlib.org/stable/tutorials/colors/colormaps.html)"
   ]
  },
  {
   "cell_type": "code",
   "execution_count": null,
   "metadata": {
    "slideshow": {
     "slide_type": "slide"
    }
   },
   "outputs": [],
   "source": [
    "_, axes = plt.subplots(2, 4, figsize=(10, 6))\n",
    "brightness = 0.2989 * red + 0.5870 * green + 0.1140 * blue\n",
    "axes[0, 0].imshow(brightness, cmap='gray')\n",
    "axes[1, 0].imshow(brightness, cmap='viridis')\n",
    "axes[0, 1].imshow(brightness, cmap='cividis')\n",
    "axes[1, 1].imshow(brightness, cmap='inferno')\n",
    "axes[0, 2].imshow(brightness, cmap='jet')\n",
    "axes[1, 2].imshow(brightness, cmap='rainbow')\n",
    "axes[0, 3].imshow(brightness, cmap='RdBu')\n",
    "axes[1, 3].imshow(brightness, cmap='nipy_spectral')\n",
    "plt.tight_layout()"
   ]
  },
  {
   "cell_type": "markdown",
   "metadata": {
    "slideshow": {
     "slide_type": "slide"
    }
   },
   "source": [
    "### Diverging colormaps"
   ]
  },
  {
   "cell_type": "code",
   "execution_count": null,
   "metadata": {
    "slideshow": {
     "slide_type": "slide"
    }
   },
   "outputs": [],
   "source": [
    "t1 = plt.imread('t1.png')[..., 0].astype(float)\n",
    "t2 = plt.imread('t2.png')[..., 0].astype(float)\n",
    "_, axes = plt.subplots(1, 2, figsize=(10, 6))\n",
    "axes[0].imshow(t1, cmap='gray')\n",
    "axes[1].imshow(t2, cmap='gray');"
   ]
  },
  {
   "cell_type": "markdown",
   "metadata": {
    "slideshow": {
     "slide_type": "slide"
    }
   },
   "source": [
    "Let's compute and plot the difference"
   ]
  },
  {
   "cell_type": "code",
   "execution_count": null,
   "metadata": {
    "slideshow": {
     "slide_type": "fragment"
    }
   },
   "outputs": [],
   "source": [
    "diff = t1 - t2"
   ]
  },
  {
   "cell_type": "code",
   "execution_count": null,
   "metadata": {
    "slideshow": {
     "slide_type": "fragment"
    }
   },
   "outputs": [],
   "source": [
    "_, axes = plt.subplots(1, 3, figsize=(10, 6))\n",
    "axes[0].imshow(t1, cmap='gray')\n",
    "axes[1].imshow(t2, cmap='gray')\n",
    "im = axes[2].imshow(diff)\n",
    "plt.colorbar(im, ax=axes[2])\n",
    "plt.tight_layout()"
   ]
  },
  {
   "cell_type": "markdown",
   "metadata": {
    "slideshow": {
     "slide_type": "slide"
    }
   },
   "source": [
    "![](https://matplotlib.org/stable/_images/sphx_glr_colormaps_004.png)"
   ]
  },
  {
   "cell_type": "markdown",
   "metadata": {
    "slideshow": {
     "slide_type": "slide"
    }
   },
   "source": [
    "![](https://www.e-education.psu.edu/geog486/sites/www.e-education.psu.edu.geog486/files/Lesson_04/Images/4.3.9.png)"
   ]
  },
  {
   "cell_type": "code",
   "execution_count": null,
   "metadata": {
    "slideshow": {
     "slide_type": "slide"
    }
   },
   "outputs": [],
   "source": [
    "_, axes = plt.subplots(1, 3, figsize=(10, 6))\n",
    "axes[0].imshow(t1, cmap='gray')\n",
    "axes[1].imshow(t2, cmap='gray')\n",
    "im = axes[2].imshow(diff, cmap='RdBu_r')\n",
    "plt.colorbar(im, ax=axes[2])\n",
    "plt.tight_layout()"
   ]
  },
  {
   "cell_type": "markdown",
   "metadata": {
    "slideshow": {
     "slide_type": "slide"
    }
   },
   "source": [
    "## Questions"
   ]
  },
  {
   "cell_type": "markdown",
   "metadata": {
    "slideshow": {
     "slide_type": "slide"
    }
   },
   "source": [
    "## Pillow\n",
    "\n",
    "<img src=\"https://python.land/wp-content/uploads/2020/12/pillow-logo.jpg\" width=\"100px\">\n",
    "\n",
    "```python\n",
    "from PIL import Image\n",
    "```"
   ]
  },
  {
   "cell_type": "markdown",
   "metadata": {
    "slideshow": {
     "slide_type": "fragment"
    }
   },
   "source": [
    "> _Pillow is the friendly PIL fork by Alex Clark and Contributors. **PIL is the Python Imaging Library** by Fredrik Lundh and Contributors._"
   ]
  },
  {
   "cell_type": "code",
   "execution_count": null,
   "metadata": {
    "slideshow": {
     "slide_type": "slide"
    }
   },
   "outputs": [],
   "source": [
    "from PIL import Image\n",
    "face = Image.open(face_path)\n",
    "face.rotate(190).resize((256, 256))"
   ]
  },
  {
   "cell_type": "code",
   "execution_count": null,
   "metadata": {
    "slideshow": {
     "slide_type": "slide"
    }
   },
   "outputs": [],
   "source": [
    "pixels_255_image = Image.fromarray(pixels_255)\n",
    "pixels_255_image"
   ]
  },
  {
   "cell_type": "code",
   "execution_count": null,
   "metadata": {
    "slideshow": {
     "slide_type": "fragment"
    }
   },
   "outputs": [],
   "source": [
    "pixels_255_image.resize((900, 100))"
   ]
  },
  {
   "cell_type": "code",
   "execution_count": null,
   "metadata": {
    "slideshow": {
     "slide_type": "fragment"
    }
   },
   "outputs": [],
   "source": [
    "pixels_255_image.resize((900, 100), resample=Image.NEAREST)"
   ]
  },
  {
   "cell_type": "code",
   "execution_count": null,
   "metadata": {
    "slideshow": {
     "slide_type": "slide"
    }
   },
   "outputs": [],
   "source": [
    "small_size, large_size = 2 * (64,), 2 * (256,)\n",
    "small_nearest = face.resize(small_size, resample=Image.NEAREST)\n",
    "small_nearest"
   ]
  },
  {
   "cell_type": "code",
   "execution_count": null,
   "metadata": {
    "slideshow": {
     "slide_type": "fragment"
    }
   },
   "outputs": [],
   "source": [
    "large_nearest = small_nearest.resize(large_size, resample=Image.NEAREST)\n",
    "large_nearest"
   ]
  },
  {
   "cell_type": "code",
   "execution_count": null,
   "metadata": {
    "slideshow": {
     "slide_type": "fragment"
    }
   },
   "outputs": [],
   "source": [
    "small_fancy = face.resize(small_size, resample=Image.LANCZOS)\n",
    "large_fancy = small_fancy.resize(large_size, resample=Image.LANCZOS)\n",
    "large_fancy"
   ]
  },
  {
   "cell_type": "markdown",
   "metadata": {
    "slideshow": {
     "slide_type": "slide"
    }
   },
   "source": [
    "## To know more\n",
    "\n",
    "### Images\n",
    "\n",
    "- [A Pixel Is Not A Little Square. Alvy Ray Smith, 1995, Technical Memo](http://alvyray.com/Memos/CG/Microsoft/6_pixel.pdf)\n",
    "\n",
    "### Image interpolation\n",
    "\n",
    "- [Cambridge in Colour - Digital Image Interpolation](https://www.cambridgeincolour.com/tutorials/image-interpolation.htm)\n",
    "- [Wikipedia - Image scaling](https://en.wikipedia.org/wiki/Image_scaling)"
   ]
  },
  {
   "cell_type": "markdown",
   "metadata": {
    "slideshow": {
     "slide_type": "slide"
    }
   },
   "source": [
    "## Questions"
   ]
  }
 ],
 "metadata": {
  "celltoolbar": "Slideshow",
  "kernelspec": {
   "display_name": "Python 3",
   "language": "python",
   "name": "python3"
  },
  "language_info": {
   "codemirror_mode": {
    "name": "ipython",
    "version": 3
   },
   "file_extension": ".py",
   "mimetype": "text/x-python",
   "name": "python",
   "nbconvert_exporter": "python",
   "pygments_lexer": "ipython3",
   "version": "3.8.5"
  }
 },
 "nbformat": 4,
 "nbformat_minor": 4
}
